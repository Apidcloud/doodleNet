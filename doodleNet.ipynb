{
 "cells": [
  {
   "cell_type": "markdown",
   "metadata": {
    "colab_type": "text",
    "id": "6H3ATAdp_URp"
   },
   "source": [
    "# Get the Class names "
   ]
  },
  {
   "cell_type": "markdown",
   "metadata": {
    "colab_type": "text",
    "id": "zlx6-LFL_jbi"
   },
   "source": [
    "This file contains a subset of the quick draw classes. I choose around 100 classes from the dataset. "
   ]
  },
  {
   "cell_type": "code",
   "execution_count": 2,
   "metadata": {
    "colab": {
     "base_uri": "https://localhost:8080/",
     "height": 224
    },
    "colab_type": "code",
    "id": "XXv-xzU1sd88",
    "outputId": "7aa617d8-9dea-4bc3-e257-4f5f93630d45"
   },
   "outputs": [
    {
     "name": "stdout",
     "output_type": "stream",
     "text": [
      "--2019-04-15 00:25:43--  https://raw.githubusercontent.com/googlecreativelab/quickdraw-dataset/master/categories.txt\n",
      "Resolving raw.githubusercontent.com (raw.githubusercontent.com)... 151.101.0.133, 151.101.64.133, 151.101.128.133, ...\n",
      "Connecting to raw.githubusercontent.com (raw.githubusercontent.com)|151.101.0.133|:443... connected.\n",
      "HTTP request sent, awaiting response... 200 OK\n",
      "Length: 2791 (2.7K) [text/plain]\n",
      "Saving to: ‘categories.txt’\n",
      "\n",
      "categories.txt      100%[===================>]   2.73K  --.-KB/s    in 0s      \n",
      "\n",
      "2019-04-15 00:25:43 (53.2 MB/s) - ‘categories.txt’ saved [2791/2791]\n",
      "\n"
     ]
    }
   ],
   "source": [
    "!wget 'https://raw.githubusercontent.com/googlecreativelab/quickdraw-dataset/master/categories.txt'"
   ]
  },
  {
   "cell_type": "markdown",
   "metadata": {
    "colab_type": "text",
    "id": "4GL_TdMffD6-"
   },
   "source": [
    "Read the classes names "
   ]
  },
  {
   "cell_type": "code",
   "execution_count": 3,
   "metadata": {
    "colab": {},
    "colab_type": "code",
    "id": "eP-OxOx5sy0b"
   },
   "outputs": [],
   "source": [
    "f = open(\"categories.txt\",\"r\")\n",
    "# And for reading use\n",
    "classes = f.readlines()\n",
    "f.close()"
   ]
  },
  {
   "cell_type": "code",
   "execution_count": 4,
   "metadata": {
    "colab": {
     "base_uri": "https://localhost:8080/",
     "height": 54
    },
    "colab_type": "code",
    "id": "lTE6D3uxtMc5",
    "outputId": "a84b4675-2c55-44de-fce9-7ac13b4df626"
   },
   "outputs": [
    {
     "name": "stdout",
     "output_type": "stream",
     "text": [
      "['aircraft_carrier', 'airplane', 'alarm_clock', 'ambulance', 'angel', 'animal_migration', 'ant', 'anvil', 'apple', 'arm', 'asparagus', 'axe', 'backpack', 'banana', 'bandage', 'barn', 'baseball', 'baseball_bat', 'basket', 'basketball', 'bat', 'bathtub', 'beach', 'bear', 'beard', 'bed', 'bee', 'belt', 'bench', 'bicycle', 'binoculars', 'bird', 'birthday_cake', 'blackberry', 'blueberry', 'book', 'boomerang', 'bottlecap', 'bowtie', 'bracelet', 'brain', 'bread', 'bridge', 'broccoli', 'broom', 'bucket', 'bulldozer', 'bus', 'bush', 'butterfly', 'cactus', 'cake', 'calculator', 'calendar', 'camel', 'camera', 'camouflage', 'campfire', 'candle', 'cannon', 'canoe', 'car', 'carrot', 'castle', 'cat', 'ceiling_fan', 'cello', 'cell_phone', 'chair', 'chandelier', 'church', 'circle', 'clarinet', 'clock', 'cloud', 'coffee_cup', 'compass', 'computer', 'cookie', 'cooler', 'couch', 'cow', 'crab', 'crayon', 'crocodile', 'crown', 'cruise_ship', 'cup', 'diamond', 'dishwasher', 'diving_board', 'dog', 'dolphin', 'donut', 'door', 'dragon', 'dresser', 'drill', 'drums', 'duck', 'dumbbell', 'ear', 'elbow', 'elephant', 'envelope', 'eraser', 'eye', 'eyeglasses', 'face', 'fan', 'feather', 'fence', 'finger', 'fire_hydrant', 'fireplace', 'firetruck', 'fish', 'flamingo', 'flashlight', 'flip_flops', 'floor_lamp', 'flower', 'flying_saucer', 'foot', 'fork', 'frog', 'frying_pan', 'garden', 'garden_hose', 'giraffe', 'goatee', 'golf_club', 'grapes', 'grass', 'guitar', 'hamburger', 'hammer', 'hand', 'harp', 'hat', 'headphones', 'hedgehog', 'helicopter', 'helmet', 'hexagon', 'hockey_puck', 'hockey_stick', 'horse', 'hospital', 'hot_air_balloon', 'hot_dog', 'hot_tub', 'hourglass', 'house', 'house_plant', 'hurricane', 'ice_cream', 'jacket', 'jail', 'kangaroo', 'key', 'keyboard', 'knee', 'knife', 'ladder', 'lantern', 'laptop', 'leaf', 'leg', 'light_bulb', 'lighter', 'lighthouse', 'lightning', 'line', 'lion', 'lipstick', 'lobster', 'lollipop', 'mailbox', 'map', 'marker', 'matches', 'megaphone', 'mermaid', 'microphone', 'microwave', 'monkey', 'moon', 'mosquito', 'motorbike', 'mountain', 'mouse', 'moustache', 'mouth', 'mug', 'mushroom', 'nail', 'necklace', 'nose', 'ocean', 'octagon', 'octopus', 'onion', 'oven', 'owl', 'paintbrush', 'paint_can', 'palm_tree', 'panda', 'pants', 'paper_clip', 'parachute', 'parrot', 'passport', 'peanut', 'pear', 'peas', 'pencil', 'penguin', 'piano', 'pickup_truck', 'picture_frame', 'pig', 'pillow', 'pineapple', 'pizza', 'pliers', 'police_car', 'pond', 'pool', 'popsicle', 'postcard', 'potato', 'power_outlet', 'purse', 'rabbit', 'raccoon', 'radio', 'rain', 'rainbow', 'rake', 'remote_control', 'rhinoceros', 'rifle', 'river', 'roller_coaster', 'rollerskates', 'sailboat', 'sandwich', 'saw', 'saxophone', 'school_bus', 'scissors', 'scorpion', 'screwdriver', 'sea_turtle', 'see_saw', 'shark', 'sheep', 'shoe', 'shorts', 'shovel', 'sink', 'skateboard', 'skull', 'skyscraper', 'sleeping_bag', 'smiley_face', 'snail', 'snake', 'snorkel', 'snowflake', 'snowman', 'soccer_ball', 'sock', 'speedboat', 'spider', 'spoon', 'spreadsheet', 'square', 'squiggle', 'squirrel', 'stairs', 'star', 'steak', 'stereo', 'stethoscope', 'stitches', 'stop_sign', 'stove', 'strawberry', 'streetlight', 'string_bean', 'submarine', 'suitcase', 'sun', 'swan', 'sweater', 'swing_set', 'sword', 'syringe', 'table', 'teapot', 'teddy-bear', 'telephone', 'television', 'tennis_racquet', 'tent', 'The_Eiffel_Tower', 'The_Great_Wall_of_China', 'The_Mona_Lisa', 'tiger', 'toaster', 'toe', 'toilet', 'tooth', 'toothbrush', 'toothpaste', 'tornado', 'tractor', 'traffic_light', 'train', 'tree', 'triangle', 'trombone', 'truck', 'trumpet', 't-shirt', 'umbrella', 'underwear', 'van', 'vase', 'violin', 'washing_machine', 'watermelon', 'waterslide', 'whale', 'wheel', 'windmill', 'wine_bottle', 'wine_glass', 'wristwatch', 'yoga', 'zebra', 'zigzag']\n"
     ]
    }
   ],
   "source": [
    "classes = [c.replace('\\n','').replace(' ','_') for c in classes]\n",
    "print(classes)"
   ]
  },
  {
   "cell_type": "markdown",
   "metadata": {
    "colab_type": "text",
    "id": "5NDfBHVjACAt"
   },
   "source": [
    "# Download the Dataset "
   ]
  },
  {
   "cell_type": "markdown",
   "metadata": {
    "colab_type": "text",
    "id": "7MC_PUS-fKjH"
   },
   "source": [
    "Loop over the classes and download the currospondent data"
   ]
  },
  {
   "cell_type": "code",
   "execution_count": 63,
   "metadata": {
    "colab": {
     "base_uri": "https://localhost:8080/",
     "height": 34
    },
    "colab_type": "code",
    "id": "rdSUnpL0u22Q",
    "outputId": "2a91c7a4-453b-4a04-fb7b-b77b6e9f80bc"
   },
   "outputs": [],
   "source": [
    "!mkdir data"
   ]
  },
  {
   "cell_type": "code",
   "execution_count": 64,
   "metadata": {
    "colab": {},
    "colab_type": "code",
    "id": "22DPhL5FtWcQ"
   },
   "outputs": [],
   "source": [
    "import urllib\n",
    "def download():\n",
    "  \n",
    "  base = 'https://storage.googleapis.com/quickdraw_dataset/full/numpy_bitmap/'\n",
    "  for c in classes:\n",
    "    cls_url = c.replace('_', '%20')\n",
    "    path = base+cls_url+'.npy'\n",
    "    print(path)\n",
    "    urllib.urlretrieve(path, 'data/'+c+'.npy')"
   ]
  },
  {
   "cell_type": "code",
   "execution_count": 65,
   "metadata": {
    "colab": {
     "base_uri": "https://localhost:8080/",
     "height": 5882
    },
    "colab_type": "code",
    "id": "O5jF6TXXu-Bu",
    "outputId": "44326350-8640-4a7e-d032-2cdb7e17a04e"
   },
   "outputs": [
    {
     "name": "stdout",
     "output_type": "stream",
     "text": [
      "https://storage.googleapis.com/quickdraw_dataset/full/numpy_bitmap/aircraft%20carrier.npy\n",
      "https://storage.googleapis.com/quickdraw_dataset/full/numpy_bitmap/airplane.npy\n",
      "https://storage.googleapis.com/quickdraw_dataset/full/numpy_bitmap/alarm%20clock.npy\n",
      "https://storage.googleapis.com/quickdraw_dataset/full/numpy_bitmap/ambulance.npy\n",
      "https://storage.googleapis.com/quickdraw_dataset/full/numpy_bitmap/angel.npy\n"
     ]
    },
    {
     "ename": "KeyboardInterrupt",
     "evalue": "",
     "output_type": "error",
     "traceback": [
      "\u001b[0;31m\u001b[0m",
      "\u001b[0;31mKeyboardInterrupt\u001b[0mTraceback (most recent call last)",
      "\u001b[0;32m<ipython-input-65-58962d5d8a96>\u001b[0m in \u001b[0;36m<module>\u001b[0;34m()\u001b[0m\n\u001b[0;32m----> 1\u001b[0;31m \u001b[0mdownload\u001b[0m\u001b[0;34m(\u001b[0m\u001b[0;34m)\u001b[0m\u001b[0;34m\u001b[0m\u001b[0m\n\u001b[0m",
      "\u001b[0;32m<ipython-input-64-efc513e7b3f9>\u001b[0m in \u001b[0;36mdownload\u001b[0;34m()\u001b[0m\n\u001b[1;32m      7\u001b[0m     \u001b[0mpath\u001b[0m \u001b[0;34m=\u001b[0m \u001b[0mbase\u001b[0m\u001b[0;34m+\u001b[0m\u001b[0mcls_url\u001b[0m\u001b[0;34m+\u001b[0m\u001b[0;34m'.npy'\u001b[0m\u001b[0;34m\u001b[0m\u001b[0m\n\u001b[1;32m      8\u001b[0m     \u001b[0;32mprint\u001b[0m\u001b[0;34m(\u001b[0m\u001b[0mpath\u001b[0m\u001b[0;34m)\u001b[0m\u001b[0;34m\u001b[0m\u001b[0m\n\u001b[0;32m----> 9\u001b[0;31m     \u001b[0murllib\u001b[0m\u001b[0;34m.\u001b[0m\u001b[0murlretrieve\u001b[0m\u001b[0;34m(\u001b[0m\u001b[0mpath\u001b[0m\u001b[0;34m,\u001b[0m \u001b[0;34m'data1/'\u001b[0m\u001b[0;34m+\u001b[0m\u001b[0mc\u001b[0m\u001b[0;34m+\u001b[0m\u001b[0;34m'.npy'\u001b[0m\u001b[0;34m)\u001b[0m\u001b[0;34m\u001b[0m\u001b[0m\n\u001b[0m",
      "\u001b[0;32m/usr/lib/python2.7/urllib.pyc\u001b[0m in \u001b[0;36murlretrieve\u001b[0;34m(url, filename, reporthook, data, context)\u001b[0m\n\u001b[1;32m     96\u001b[0m     \u001b[0;32melse\u001b[0m\u001b[0;34m:\u001b[0m\u001b[0;34m\u001b[0m\u001b[0m\n\u001b[1;32m     97\u001b[0m         \u001b[0mopener\u001b[0m \u001b[0;34m=\u001b[0m \u001b[0m_urlopener\u001b[0m\u001b[0;34m\u001b[0m\u001b[0m\n\u001b[0;32m---> 98\u001b[0;31m     \u001b[0;32mreturn\u001b[0m \u001b[0mopener\u001b[0m\u001b[0;34m.\u001b[0m\u001b[0mretrieve\u001b[0m\u001b[0;34m(\u001b[0m\u001b[0murl\u001b[0m\u001b[0;34m,\u001b[0m \u001b[0mfilename\u001b[0m\u001b[0;34m,\u001b[0m \u001b[0mreporthook\u001b[0m\u001b[0;34m,\u001b[0m \u001b[0mdata\u001b[0m\u001b[0;34m)\u001b[0m\u001b[0;34m\u001b[0m\u001b[0m\n\u001b[0m\u001b[1;32m     99\u001b[0m \u001b[0;32mdef\u001b[0m \u001b[0murlcleanup\u001b[0m\u001b[0;34m(\u001b[0m\u001b[0;34m)\u001b[0m\u001b[0;34m:\u001b[0m\u001b[0;34m\u001b[0m\u001b[0m\n\u001b[1;32m    100\u001b[0m     \u001b[0;32mif\u001b[0m \u001b[0m_urlopener\u001b[0m\u001b[0;34m:\u001b[0m\u001b[0;34m\u001b[0m\u001b[0m\n",
      "\u001b[0;32m/usr/lib/python2.7/urllib.pyc\u001b[0m in \u001b[0;36mretrieve\u001b[0;34m(self, url, filename, reporthook, data)\u001b[0m\n\u001b[1;32m    271\u001b[0m                     \u001b[0mreporthook\u001b[0m\u001b[0;34m(\u001b[0m\u001b[0mblocknum\u001b[0m\u001b[0;34m,\u001b[0m \u001b[0mbs\u001b[0m\u001b[0;34m,\u001b[0m \u001b[0msize\u001b[0m\u001b[0;34m)\u001b[0m\u001b[0;34m\u001b[0m\u001b[0m\n\u001b[1;32m    272\u001b[0m                 \u001b[0;32mwhile\u001b[0m \u001b[0;36m1\u001b[0m\u001b[0;34m:\u001b[0m\u001b[0;34m\u001b[0m\u001b[0m\n\u001b[0;32m--> 273\u001b[0;31m                     \u001b[0mblock\u001b[0m \u001b[0;34m=\u001b[0m \u001b[0mfp\u001b[0m\u001b[0;34m.\u001b[0m\u001b[0mread\u001b[0m\u001b[0;34m(\u001b[0m\u001b[0mbs\u001b[0m\u001b[0;34m)\u001b[0m\u001b[0;34m\u001b[0m\u001b[0m\n\u001b[0m\u001b[1;32m    274\u001b[0m                     \u001b[0;32mif\u001b[0m \u001b[0mblock\u001b[0m \u001b[0;34m==\u001b[0m \u001b[0;34m\"\"\u001b[0m\u001b[0;34m:\u001b[0m\u001b[0;34m\u001b[0m\u001b[0m\n\u001b[1;32m    275\u001b[0m                         \u001b[0;32mbreak\u001b[0m\u001b[0;34m\u001b[0m\u001b[0m\n",
      "\u001b[0;32m/usr/lib/python2.7/socket.pyc\u001b[0m in \u001b[0;36mread\u001b[0;34m(self, size)\u001b[0m\n\u001b[1;32m    382\u001b[0m                 \u001b[0;31m# fragmentation issues on many platforms.\u001b[0m\u001b[0;34m\u001b[0m\u001b[0;34m\u001b[0m\u001b[0m\n\u001b[1;32m    383\u001b[0m                 \u001b[0;32mtry\u001b[0m\u001b[0;34m:\u001b[0m\u001b[0;34m\u001b[0m\u001b[0m\n\u001b[0;32m--> 384\u001b[0;31m                     \u001b[0mdata\u001b[0m \u001b[0;34m=\u001b[0m \u001b[0mself\u001b[0m\u001b[0;34m.\u001b[0m\u001b[0m_sock\u001b[0m\u001b[0;34m.\u001b[0m\u001b[0mrecv\u001b[0m\u001b[0;34m(\u001b[0m\u001b[0mleft\u001b[0m\u001b[0;34m)\u001b[0m\u001b[0;34m\u001b[0m\u001b[0m\n\u001b[0m\u001b[1;32m    385\u001b[0m                 \u001b[0;32mexcept\u001b[0m \u001b[0merror\u001b[0m\u001b[0;34m,\u001b[0m \u001b[0me\u001b[0m\u001b[0;34m:\u001b[0m\u001b[0;34m\u001b[0m\u001b[0m\n\u001b[1;32m    386\u001b[0m                     \u001b[0;32mif\u001b[0m \u001b[0me\u001b[0m\u001b[0;34m.\u001b[0m\u001b[0margs\u001b[0m\u001b[0;34m[\u001b[0m\u001b[0;36m0\u001b[0m\u001b[0;34m]\u001b[0m \u001b[0;34m==\u001b[0m \u001b[0mEINTR\u001b[0m\u001b[0;34m:\u001b[0m\u001b[0;34m\u001b[0m\u001b[0m\n",
      "\u001b[0;32m/usr/lib/python2.7/ssl.pyc\u001b[0m in \u001b[0;36mrecv\u001b[0;34m(self, buflen, flags)\u001b[0m\n\u001b[1;32m    770\u001b[0m                     \u001b[0;34m\"non-zero flags not allowed in calls to recv() on %s\"\u001b[0m \u001b[0;34m%\u001b[0m\u001b[0;34m\u001b[0m\u001b[0m\n\u001b[1;32m    771\u001b[0m                     self.__class__)\n\u001b[0;32m--> 772\u001b[0;31m             \u001b[0;32mreturn\u001b[0m \u001b[0mself\u001b[0m\u001b[0;34m.\u001b[0m\u001b[0mread\u001b[0m\u001b[0;34m(\u001b[0m\u001b[0mbuflen\u001b[0m\u001b[0;34m)\u001b[0m\u001b[0;34m\u001b[0m\u001b[0m\n\u001b[0m\u001b[1;32m    773\u001b[0m         \u001b[0;32melse\u001b[0m\u001b[0;34m:\u001b[0m\u001b[0;34m\u001b[0m\u001b[0m\n\u001b[1;32m    774\u001b[0m             \u001b[0;32mreturn\u001b[0m \u001b[0mself\u001b[0m\u001b[0;34m.\u001b[0m\u001b[0m_sock\u001b[0m\u001b[0;34m.\u001b[0m\u001b[0mrecv\u001b[0m\u001b[0;34m(\u001b[0m\u001b[0mbuflen\u001b[0m\u001b[0;34m,\u001b[0m \u001b[0mflags\u001b[0m\u001b[0;34m)\u001b[0m\u001b[0;34m\u001b[0m\u001b[0m\n",
      "\u001b[0;32m/usr/lib/python2.7/ssl.pyc\u001b[0m in \u001b[0;36mread\u001b[0;34m(self, len, buffer)\u001b[0m\n\u001b[1;32m    657\u001b[0m                 \u001b[0mv\u001b[0m \u001b[0;34m=\u001b[0m \u001b[0mself\u001b[0m\u001b[0;34m.\u001b[0m\u001b[0m_sslobj\u001b[0m\u001b[0;34m.\u001b[0m\u001b[0mread\u001b[0m\u001b[0;34m(\u001b[0m\u001b[0mlen\u001b[0m\u001b[0;34m,\u001b[0m \u001b[0mbuffer\u001b[0m\u001b[0;34m)\u001b[0m\u001b[0;34m\u001b[0m\u001b[0m\n\u001b[1;32m    658\u001b[0m             \u001b[0;32melse\u001b[0m\u001b[0;34m:\u001b[0m\u001b[0;34m\u001b[0m\u001b[0m\n\u001b[0;32m--> 659\u001b[0;31m                 \u001b[0mv\u001b[0m \u001b[0;34m=\u001b[0m \u001b[0mself\u001b[0m\u001b[0;34m.\u001b[0m\u001b[0m_sslobj\u001b[0m\u001b[0;34m.\u001b[0m\u001b[0mread\u001b[0m\u001b[0;34m(\u001b[0m\u001b[0mlen\u001b[0m\u001b[0;34m)\u001b[0m\u001b[0;34m\u001b[0m\u001b[0m\n\u001b[0m\u001b[1;32m    660\u001b[0m             \u001b[0;32mreturn\u001b[0m \u001b[0mv\u001b[0m\u001b[0;34m\u001b[0m\u001b[0m\n\u001b[1;32m    661\u001b[0m         \u001b[0;32mexcept\u001b[0m \u001b[0mSSLError\u001b[0m \u001b[0;32mas\u001b[0m \u001b[0mx\u001b[0m\u001b[0;34m:\u001b[0m\u001b[0;34m\u001b[0m\u001b[0m\n",
      "\u001b[0;31mKeyboardInterrupt\u001b[0m: "
     ]
    }
   ],
   "source": [
    "download() "
   ]
  },
  {
   "cell_type": "markdown",
   "metadata": {
    "colab_type": "text",
    "id": "uEdnbBVXAI-X"
   },
   "source": [
    "# Imports "
   ]
  },
  {
   "cell_type": "code",
   "execution_count": 5,
   "metadata": {
    "colab": {},
    "colab_type": "code",
    "id": "J2FYrPgOKh6t"
   },
   "outputs": [],
   "source": [
    "import os\n",
    "import glob\n",
    "import numpy as np\n",
    "from tensorflow.keras import layers\n",
    "from tensorflow import keras \n",
    "import tensorflow as tf\n"
   ]
  },
  {
   "cell_type": "markdown",
   "metadata": {
    "colab_type": "text",
    "id": "6o30ipBPAQ5Y"
   },
   "source": [
    "# Load the Data "
   ]
  },
  {
   "cell_type": "markdown",
   "metadata": {
    "colab_type": "text",
    "id": "UBq3GXEKAYuO"
   },
   "source": [
    "Each class contains different number samples of arrays stored as .npy format. We will load 10000 images per class.  "
   ]
  },
  {
   "cell_type": "code",
   "execution_count": 6,
   "metadata": {
    "colab": {},
    "colab_type": "code",
    "id": "6HEIgQNHYQnl"
   },
   "outputs": [],
   "source": [
    "def load_data(root, vfold_ratio=0.1, max_items_per_class=10000):\n",
    "    all_files = glob.glob(os.path.join(root, '*.npy'))\n",
    "\n",
    "    #initialize variables \n",
    "    x = np.empty([0, 784])\n",
    "    y = np.empty([0])\n",
    "    class_names = []\n",
    "\n",
    "    #load each data file \n",
    "    for idx, file in enumerate(all_files):\n",
    "        print(idx)\n",
    "        print(file)\n",
    "        data = np.load(file)\n",
    "        data = data[0: max_items_per_class, :]\n",
    "        labels = np.full(data.shape[0], idx)\n",
    "\n",
    "        x = np.concatenate((x, data), axis=0)\n",
    "        y = np.append(y, labels)\n",
    "\n",
    "        class_name, ext = os.path.splitext(os.path.basename(file))\n",
    "        class_names.append(class_name)\n",
    "\n",
    "    data = None\n",
    "    labels = None\n",
    "    \n",
    "    #randomize the dataset \n",
    "    permutation = np.random.permutation(y.shape[0])\n",
    "    x = x[permutation, :]\n",
    "    y = y[permutation]\n",
    "\n",
    "    #separate into training and testing \n",
    "    vfold_size = int(x.shape[0]/100*(vfold_ratio*100))\n",
    "\n",
    "    x_test = x[0:vfold_size, :]\n",
    "    y_test = y[0:vfold_size]\n",
    "\n",
    "    x_train = x[vfold_size:x.shape[0], :]\n",
    "    y_train = y[vfold_size:y.shape[0]]\n",
    "    return x_train, y_train, x_test, y_test, class_names"
   ]
  },
  {
   "cell_type": "code",
   "execution_count": 7,
   "metadata": {
    "colab": {
     "base_uri": "https://localhost:8080/",
     "height": 2754
    },
    "colab_type": "code",
    "id": "K6uUjN-WL2Y9",
    "outputId": "0eee863f-2830-4078-d05f-a1bd629e0551"
   },
   "outputs": [
    {
     "name": "stdout",
     "output_type": "stream",
     "text": [
      "0\n",
      "data/flashlight.npy\n",
      "1\n",
      "data/belt.npy\n",
      "2\n",
      "data/mushroom.npy\n",
      "3\n",
      "data/pond.npy\n",
      "4\n",
      "data/strawberry.npy\n",
      "5\n",
      "data/pineapple.npy\n",
      "6\n",
      "data/sun.npy\n",
      "7\n",
      "data/cow.npy\n",
      "8\n",
      "data/ear.npy\n",
      "9\n",
      "data/bush.npy\n",
      "10\n",
      "data/pliers.npy\n",
      "11\n",
      "data/watermelon.npy\n",
      "12\n",
      "data/apple.npy\n",
      "13\n",
      "data/baseball.npy\n",
      "14\n",
      "data/feather.npy\n",
      "15\n",
      "data/shoe.npy\n",
      "16\n",
      "data/leaf.npy\n",
      "17\n",
      "data/lollipop.npy\n",
      "18\n",
      "data/crown.npy\n",
      "19\n",
      "data/ocean.npy\n",
      "20\n",
      "data/horse.npy\n",
      "21\n",
      "data/mountain.npy\n",
      "22\n",
      "data/mosquito.npy\n",
      "23\n",
      "data/mug.npy\n",
      "24\n",
      "data/hospital.npy\n",
      "25\n",
      "data/saw.npy\n",
      "26\n",
      "data/castle.npy\n",
      "27\n",
      "data/angel.npy\n",
      "28\n",
      "data/underwear.npy\n",
      "29\n",
      "data/traffic_light.npy\n",
      "30\n",
      "data/cruise_ship.npy\n",
      "31\n",
      "data/marker.npy\n",
      "32\n",
      "data/blueberry.npy\n",
      "33\n",
      "data/flamingo.npy\n",
      "34\n",
      "data/face.npy\n",
      "35\n",
      "data/hockey_stick.npy\n",
      "36\n",
      "data/bucket.npy\n",
      "37\n",
      "data/campfire.npy\n",
      "38\n",
      "data/asparagus.npy\n",
      "39\n",
      "data/skateboard.npy\n",
      "40\n",
      "data/door.npy\n",
      "41\n",
      "data/suitcase.npy\n",
      "42\n",
      "data/skull.npy\n",
      "43\n",
      "data/cloud.npy\n",
      "44\n",
      "data/paint_can.npy\n",
      "45\n",
      "data/hockey_puck.npy\n",
      "46\n",
      "data/steak.npy\n",
      "47\n",
      "data/house_plant.npy\n",
      "48\n",
      "data/sleeping_bag.npy\n",
      "49\n",
      "data/bench.npy\n",
      "50\n",
      "data/snowman.npy\n",
      "51\n",
      "data/arm.npy\n",
      "52\n",
      "data/crayon.npy\n",
      "53\n",
      "data/fan.npy\n",
      "54\n",
      "data/shovel.npy\n",
      "55\n",
      "data/leg.npy\n",
      "56\n",
      "data/washing_machine.npy\n",
      "57\n",
      "data/harp.npy\n",
      "58\n",
      "data/toothbrush.npy\n",
      "59\n",
      "data/tree.npy\n",
      "60\n",
      "data/bear.npy\n",
      "61\n",
      "data/rake.npy\n",
      "62\n",
      "data/megaphone.npy\n",
      "63\n",
      "data/knee.npy\n",
      "64\n",
      "data/guitar.npy\n",
      "65\n",
      "data/calculator.npy\n",
      "66\n",
      "data/hurricane.npy\n",
      "67\n",
      "data/grapes.npy\n",
      "68\n",
      "data/paintbrush.npy\n",
      "69\n",
      "data/couch.npy\n",
      "70\n",
      "data/nose.npy\n",
      "71\n",
      "data/square.npy\n",
      "72\n",
      "data/wristwatch.npy\n",
      "73\n",
      "data/penguin.npy\n",
      "74\n",
      "data/bridge.npy\n",
      "75\n",
      "data/octagon.npy\n",
      "76\n",
      "data/submarine.npy\n",
      "77\n",
      "data/screwdriver.npy\n",
      "78\n",
      "data/rollerskates.npy\n",
      "79\n",
      "data/ladder.npy\n",
      "80\n",
      "data/wine_bottle.npy\n",
      "81\n",
      "data/cake.npy\n",
      "82\n",
      "data/bracelet.npy\n",
      "83\n",
      "data/broom.npy\n",
      "84\n",
      "data/yoga.npy\n",
      "85\n",
      "data/finger.npy\n",
      "86\n",
      "data/fish.npy\n",
      "87\n",
      "data/line.npy\n",
      "88\n",
      "data/truck.npy\n",
      "89\n",
      "data/snake.npy\n",
      "90\n",
      "data/bus.npy\n",
      "91\n",
      "data/stitches.npy\n",
      "92\n",
      "data/snorkel.npy\n",
      "93\n",
      "data/shorts.npy\n",
      "94\n",
      "data/bowtie.npy\n",
      "95\n",
      "data/pickup_truck.npy\n",
      "96\n",
      "data/tooth.npy\n",
      "97\n",
      "data/snail.npy\n",
      "98\n",
      "data/foot.npy\n",
      "99\n",
      "data/crab.npy\n",
      "100\n",
      "data/school_bus.npy\n",
      "101\n",
      "data/train.npy\n",
      "102\n",
      "data/dresser.npy\n",
      "103\n",
      "data/sock.npy\n",
      "104\n",
      "data/tractor.npy\n",
      "105\n",
      "data/map.npy\n",
      "106\n",
      "data/hedgehog.npy\n",
      "107\n",
      "data/coffee_cup.npy\n",
      "108\n",
      "data/computer.npy\n",
      "109\n",
      "data/matches.npy\n",
      "110\n",
      "data/beard.npy\n",
      "111\n",
      "data/frog.npy\n",
      "112\n",
      "data/crocodile.npy\n",
      "113\n",
      "data/bathtub.npy\n",
      "114\n",
      "data/rain.npy\n",
      "115\n",
      "data/moon.npy\n",
      "116\n",
      "data/bee.npy\n",
      "117\n",
      "data/knife.npy\n",
      "118\n",
      "data/boomerang.npy\n",
      "119\n",
      "data/lighthouse.npy\n",
      "120\n",
      "data/chandelier.npy\n",
      "121\n",
      "data/jail.npy\n",
      "122\n",
      "data/pool.npy\n",
      "123\n",
      "data/stethoscope.npy\n",
      "124\n",
      "data/frying_pan.npy\n",
      "125\n",
      "data/cell_phone.npy\n",
      "126\n",
      "data/binoculars.npy\n",
      "127\n",
      "data/purse.npy\n",
      "128\n",
      "data/lantern.npy\n",
      "129\n",
      "data/birthday_cake.npy\n",
      "130\n",
      "data/clarinet.npy\n",
      "131\n",
      "data/palm_tree.npy\n",
      "132\n",
      "data/aircraft_carrier.npy\n",
      "133\n",
      "data/vase.npy\n",
      "134\n",
      "data/eraser.npy\n",
      "135\n",
      "data/shark.npy\n",
      "136\n",
      "data/skyscraper.npy\n",
      "137\n",
      "data/bicycle.npy\n",
      "138\n",
      "data/sink.npy\n",
      "139\n",
      "data/teapot.npy\n",
      "140\n",
      "data/circle.npy\n",
      "141\n",
      "data/tornado.npy\n",
      "142\n",
      "data/bird.npy\n",
      "143\n",
      "data/stereo.npy\n",
      "144\n",
      "data/mouth.npy\n",
      "145\n",
      "data/key.npy\n",
      "146\n",
      "data/hot_dog.npy\n",
      "147\n",
      "data/spoon.npy\n",
      "148\n",
      "data/laptop.npy\n",
      "149\n",
      "data/cup.npy\n",
      "150\n",
      "data/bottlecap.npy\n",
      "151\n",
      "data/The_Great_Wall_of_China.npy\n",
      "152\n",
      "data/The_Mona_Lisa.npy\n",
      "153\n",
      "data/smiley_face.npy\n",
      "154\n",
      "data/waterslide.npy\n",
      "155\n",
      "data/eyeglasses.npy\n",
      "156\n",
      "data/ceiling_fan.npy\n",
      "157\n",
      "data/lobster.npy\n",
      "158\n",
      "data/moustache.npy\n",
      "159\n",
      "data/carrot.npy\n",
      "160\n",
      "data/garden.npy\n",
      "161\n",
      "data/police_car.npy\n",
      "162\n",
      "data/postcard.npy\n",
      "163\n",
      "data/necklace.npy\n",
      "164\n",
      "data/helmet.npy\n",
      "165\n",
      "data/blackberry.npy\n",
      "166\n",
      "data/beach.npy\n",
      "167\n",
      "data/golf_club.npy\n",
      "168\n",
      "data/car.npy\n",
      "169\n",
      "data/panda.npy\n",
      "170\n",
      "data/alarm_clock.npy\n",
      "171\n",
      "data/t-shirt.npy\n",
      "172\n",
      "data/dog.npy\n",
      "173\n",
      "data/bread.npy\n",
      "174\n",
      "data/wine_glass.npy\n",
      "175\n",
      "data/lighter.npy\n",
      "176\n",
      "data/flower.npy\n",
      "177\n",
      "data/bandage.npy\n",
      "178\n",
      "data/drill.npy\n",
      "179\n",
      "data/butterfly.npy\n",
      "180\n",
      "data/swan.npy\n",
      "181\n",
      "data/owl.npy\n",
      "182\n",
      "data/raccoon.npy\n",
      "183\n",
      "data/squiggle.npy\n",
      "184\n",
      "data/calendar.npy\n",
      "185\n",
      "data/giraffe.npy\n",
      "186\n",
      "data/elephant.npy\n",
      "187\n",
      "data/trumpet.npy\n",
      "188\n",
      "data/rabbit.npy\n",
      "189\n",
      "data/trombone.npy\n",
      "190\n",
      "data/sheep.npy\n",
      "191\n",
      "data/onion.npy\n",
      "192\n",
      "data/church.npy\n",
      "193\n",
      "data/flip_flops.npy\n",
      "194\n",
      "data/spreadsheet.npy\n",
      "195\n",
      "data/pear.npy\n",
      "196\n",
      "data/clock.npy\n",
      "197\n",
      "data/roller_coaster.npy\n",
      "198\n",
      "data/parachute.npy\n",
      "199\n",
      "data/kangaroo.npy\n",
      "200\n",
      "data/duck.npy\n",
      "201\n",
      "data/remote_control.npy\n",
      "202\n",
      "data/compass.npy\n",
      "203\n",
      "data/monkey.npy\n",
      "204\n",
      "data/rainbow.npy\n",
      "205\n",
      "data/tennis_racquet.npy\n",
      "206\n",
      "data/lion.npy\n",
      "207\n",
      "data/pencil.npy\n",
      "208\n",
      "data/string_bean.npy\n",
      "209\n",
      "data/oven.npy\n",
      "210\n",
      "data/star.npy\n",
      "211\n",
      "data/cat.npy\n",
      "212\n",
      "data/pizza.npy\n",
      "213\n",
      "data/soccer_ball.npy\n",
      "214\n",
      "data/syringe.npy\n",
      "215\n",
      "data/flying_saucer.npy\n",
      "216\n",
      "data/eye.npy\n",
      "217\n",
      "data/cookie.npy\n",
      "218\n",
      "data/floor_lamp.npy\n",
      "219\n",
      "data/mouse.npy\n",
      "220\n",
      "data/toilet.npy\n",
      "221\n",
      "data/toaster.npy\n",
      "222\n",
      "data/The_Eiffel_Tower.npy\n",
      "223\n",
      "data/airplane.npy\n",
      "224\n",
      "data/stove.npy\n",
      "225\n",
      "data/cello.npy\n",
      "226\n",
      "data/stop_sign.npy\n",
      "227\n",
      "data/tent.npy\n",
      "228\n",
      "data/diving_board.npy\n",
      "229\n",
      "data/light_bulb.npy\n",
      "230\n",
      "data/hammer.npy\n",
      "231\n",
      "data/scorpion.npy\n",
      "232\n",
      "data/headphones.npy\n",
      "233\n",
      "data/basket.npy\n",
      "234\n",
      "data/spider.npy\n",
      "235\n",
      "data/paper_clip.npy\n",
      "236\n",
      "data/sweater.npy\n",
      "237\n",
      "data/ice_cream.npy\n",
      "238\n",
      "data/envelope.npy\n",
      "239\n",
      "data/sea_turtle.npy\n",
      "240\n",
      "data/donut.npy\n",
      "241\n",
      "data/hat.npy\n",
      "242\n",
      "data/hourglass.npy\n",
      "243\n",
      "data/broccoli.npy\n",
      "244\n",
      "data/jacket.npy\n",
      "245\n",
      "data/backpack.npy\n",
      "246\n",
      "data/book.npy\n",
      "247\n",
      "data/lightning.npy\n",
      "248\n",
      "data/drums.npy\n",
      "249\n",
      "data/snowflake.npy\n",
      "250\n",
      "data/radio.npy\n",
      "251\n",
      "data/banana.npy\n",
      "252\n",
      "data/camel.npy\n",
      "253\n",
      "data/canoe.npy\n",
      "254\n",
      "data/toothpaste.npy\n",
      "255\n",
      "data/chair.npy\n",
      "256\n",
      "data/picture_frame.npy\n",
      "257\n",
      "data/parrot.npy\n",
      "258\n",
      "data/sandwich.npy\n",
      "259\n",
      "data/lipstick.npy\n",
      "260\n",
      "data/pants.npy\n",
      "261\n",
      "data/violin.npy\n",
      "262\n",
      "data/brain.npy\n",
      "263\n",
      "data/power_outlet.npy\n",
      "264\n",
      "data/triangle.npy\n",
      "265\n",
      "data/hamburger.npy\n",
      "266\n",
      "data/dragon.npy\n",
      "267\n",
      "data/bulldozer.npy\n",
      "268\n",
      "data/cannon.npy\n",
      "269\n",
      "data/dolphin.npy\n",
      "270\n",
      "data/zebra.npy\n",
      "271\n",
      "data/animal_migration.npy\n",
      "272\n",
      "data/camouflage.npy\n",
      "273\n",
      "data/scissors.npy\n",
      "274\n",
      "data/basketball.npy\n",
      "275\n",
      "data/elbow.npy\n",
      "276\n",
      "data/umbrella.npy\n",
      "277\n",
      "data/windmill.npy\n",
      "278\n",
      "data/table.npy\n",
      "279\n",
      "data/rifle.npy\n",
      "280\n",
      "data/hexagon.npy\n",
      "281\n",
      "data/potato.npy\n",
      "282\n",
      "data/anvil.npy\n",
      "283\n",
      "data/sword.npy\n",
      "284\n",
      "data/peanut.npy\n",
      "285\n",
      "data/axe.npy\n",
      "286\n",
      "data/television.npy\n",
      "287\n",
      "data/rhinoceros.npy\n",
      "288\n",
      "data/baseball_bat.npy\n",
      "289\n",
      "data/speedboat.npy\n",
      "290\n",
      "data/sailboat.npy\n",
      "291\n",
      "data/zigzag.npy\n",
      "292\n",
      "data/garden_hose.npy\n",
      "293\n",
      "data/river.npy\n",
      "294\n",
      "data/house.npy\n",
      "295\n",
      "data/pillow.npy\n",
      "296\n",
      "data/ant.npy\n",
      "297\n",
      "data/tiger.npy\n",
      "298\n",
      "data/stairs.npy\n",
      "299\n",
      "data/cooler.npy\n",
      "300\n",
      "data/see_saw.npy\n",
      "301\n",
      "data/piano.npy\n",
      "302\n",
      "data/fireplace.npy\n",
      "303\n",
      "data/popsicle.npy\n",
      "304\n",
      "data/dumbbell.npy\n",
      "305\n",
      "data/mailbox.npy\n",
      "306\n",
      "data/barn.npy\n",
      "307\n",
      "data/hot_tub.npy\n",
      "308\n",
      "data/teddy-bear.npy\n",
      "309\n",
      "data/fork.npy\n",
      "310\n",
      "data/dishwasher.npy\n",
      "311\n",
      "data/peas.npy\n",
      "312\n",
      "data/hot_air_balloon.npy\n",
      "313\n",
      "data/keyboard.npy\n",
      "314\n",
      "data/microwave.npy\n",
      "315\n",
      "data/wheel.npy\n",
      "316\n",
      "data/fire_hydrant.npy\n",
      "317\n",
      "data/van.npy\n",
      "318\n",
      "data/camera.npy\n",
      "319\n",
      "data/whale.npy\n",
      "320\n",
      "data/candle.npy\n",
      "321\n",
      "data/octopus.npy\n",
      "322\n",
      "data/pig.npy\n",
      "323\n",
      "data/swing_set.npy\n",
      "324\n",
      "data/helicopter.npy\n",
      "325\n",
      "data/saxophone.npy\n",
      "326\n",
      "data/passport.npy\n",
      "327\n",
      "data/bat.npy\n",
      "328\n",
      "data/ambulance.npy\n",
      "329\n",
      "data/diamond.npy\n",
      "330\n",
      "data/goatee.npy\n",
      "331\n",
      "data/fence.npy\n",
      "332\n",
      "data/grass.npy\n",
      "333\n",
      "data/mermaid.npy\n",
      "334\n",
      "data/motorbike.npy\n",
      "335\n",
      "data/microphone.npy\n",
      "336\n",
      "data/toe.npy\n",
      "337\n",
      "data/cactus.npy\n",
      "338\n",
      "data/nail.npy\n",
      "339\n",
      "data/telephone.npy\n",
      "340\n",
      "data/hand.npy\n",
      "341\n",
      "data/squirrel.npy\n",
      "342\n",
      "data/streetlight.npy\n",
      "343\n",
      "data/bed.npy\n",
      "344\n",
      "data/firetruck.npy\n"
     ]
    }
   ],
   "source": [
    "x_train, y_train, x_test, y_test, class_names = load_data('data')\n",
    "num_classes = len(class_names)\n",
    "image_size = 28"
   ]
  },
  {
   "cell_type": "code",
   "execution_count": 8,
   "metadata": {
    "colab": {
     "base_uri": "https://localhost:8080/",
     "height": 164
    },
    "colab_type": "code",
    "id": "VhGEDS0SMgLK",
    "outputId": "9af86ae9-5ae6-470a-eca5-6b09d20a5d27"
   },
   "outputs": [
    {
     "name": "stdout",
     "output_type": "stream",
     "text": [
      "3105000\n",
      "3105000\n",
      "345000\n",
      "345000\n"
     ]
    }
   ],
   "source": [
    "print(len(x_train))\n",
    "print(len(y_train))\n",
    "print(len(x_test))\n",
    "print(len(y_test))"
   ]
  },
  {
   "cell_type": "markdown",
   "metadata": {
    "colab_type": "text",
    "id": "rNZmQvBWBBHE"
   },
   "source": [
    "Show some random data "
   ]
  },
  {
   "cell_type": "code",
   "execution_count": 9,
   "metadata": {
    "colab": {
     "base_uri": "https://localhost:8080/",
     "height": 282
    },
    "colab_type": "code",
    "id": "KfpDaHRkyMQC",
    "outputId": "0f070893-98d5-42fa-b77d-f0a1d57210f7"
   },
   "outputs": [
    {
     "name": "stdout",
     "output_type": "stream",
     "text": [
      "[[  0.   0.   0.   0.   0.   0.   0.   0.   0.   0.   0.   0.   0.   0.\n",
      "    0.   0.   0.   0.   0.   0.   0.   0.   0.   0.   0.   0.   0.   0.]\n",
      " [  0.   0.   0.   0.   0.   0.   0.   0.   0.   0.   0.   0.   0.   0.\n",
      "    0.   0.   0.   0.   0.   0.   0.   0.   0.   0.   0.   0.   0.   0.]\n",
      " [  0.   0.   0.   0.   0.   0.   0.   0.   0.   0.  13.  66. 121. 176.\n",
      "  227. 238. 218. 137.  37.   0.   0.   0.   0.   0.   0.   0.   0.   0.]\n",
      " [  0.   0.   0.   0.   0.   0.  33. 102. 157. 212. 253. 255. 252. 208.\n",
      "  154. 136. 172. 247. 242.  56.   0.   0.   0.   0.   0.   0.   0.   0.]\n",
      " [  0.   0.   0.   0.  62. 178. 253. 255. 227. 172. 117.  62.  11.   0.\n",
      "    0.   0.   0.  23. 213. 239.  49.   0.   0.   0.   0.   0.   0.   0.]\n",
      " [  0.   0.   0.   7. 249. 228. 121.  27.   0.   0.   0.  47. 116. 145.\n",
      "  169. 144.  72.   0.  25. 219. 235.  29.   0.   0.   0.   0.   0.   0.]\n",
      " [  0.   0.   0.   0.  32.   5.   0.   0.   0.  55. 210. 255. 255. 231.\n",
      "  207. 238. 254. 117.   0.  31. 246. 135.   0.   0.   0.   0.   0.   0.]\n",
      " [  0.   0.   0.   0.   0.   0.   0.   0.  14. 224. 220.  97.  14.   0.\n",
      "    0.   3. 159. 254.  87.   0. 216. 160.   0.   0.   0.   0.   0.   0.]\n",
      " [  0.   0.   0.   0.   0.   0.   0.   0. 152. 250.  49.   0.   0.   0.\n",
      "    0.   0.   4. 194. 223.   1. 208. 169.   0.   0.   0.   0.   0.   0.]\n",
      " [  0.   0.   0.   0.   0.   0.   0.   0. 237. 152.   0.   0.   0.   0.\n",
      "    0.   0.   0.  85. 255.  53. 200. 177.   0.   0.   0.   0.   0.   0.]\n",
      " [  0.   0.   0.   0.   0.   0.   0.  21. 255. 103.   0.   0.   0.   0.\n",
      "    0.   0.   0.  66. 255.  57. 191. 185.   0.   0.   0.   0.   0.   0.]\n",
      " [  0.   0.   0.   0.   0.   0.   0.  23. 255.  97.   0.   0.   0.   0.\n",
      "    0.   0.   0.  95. 255.  27. 184. 193.   0.   0.   0.   0.   0.   0.]\n",
      " [  0.   0.   0.   0.   0.   0.   0.  12. 255. 108.   0.   0.   0.   0.\n",
      "    0.   0.   0. 122. 251.   4. 166. 216.   0.   0.   0.   0.   0.   0.]\n",
      " [  0.   0.   0.   0.   0.   0.   0.   2. 254. 119.   0.   0.   0.   0.\n",
      "    0.   0.   0. 124. 250.   6. 117. 253.  14.   0.   0.   0.   0.   0.]\n",
      " [  0.   0.   0.   0.   0.   0.   0.   0. 247. 129.   0.   0.   0.   0.\n",
      "    0.   0.   0.  83. 255.  43.  63. 255.  65.   0.   0.   0.   0.   0.]\n",
      " [  0.   0.   0.   0.   0.   0.   0.   0. 236. 139.   0.   0.   0.   0.\n",
      "    0.   0.   0.  39. 255.  87.  12. 252. 118.   0.   0.   0.   0.   0.]\n",
      " [  0.   0.   0.   0.   0.   0.   0.   0. 225. 151.   0.   0.   0.   0.\n",
      "    0.   0.   0.   4. 247. 131.   0. 213. 173.   0.   0.   0.   0.   0.]\n",
      " [  0.   0.  46. 199. 196. 183. 170.  78. 205. 213. 122.  25.   0.   0.\n",
      "    0.   0.  24. 161. 253. 150.   0. 146. 255. 217.  30.   0.   0.   0.]\n",
      " [  0.   0. 157. 239. 180. 193. 205. 112. 109. 226. 252. 146.   0.   0.\n",
      "    0.   4. 201. 243. 130.  14.   0.   8. 107. 255. 164.   3.   0.   0.]\n",
      " [  0.   0. 212. 172.   0.   0.   0.   0.   0.   0. 201. 174.   0.   0.\n",
      "    0.  88. 255.  77.   0.   0.   0.   0.   0. 116. 254. 168.   1.   0.]\n",
      " [  0.  12. 252. 120.   0.   0.   0.   0.   0.   0. 191. 185.   0.   0.\n",
      "    0. 123. 252.   3.   0.   0.   0.   0.   0.   0. 124. 255.  37.   0.]\n",
      " [  0.  63. 255.  67.   0.   0.   0.   0.   0.   0. 180. 196.   0.   0.\n",
      "    0. 142. 235.   0.   0.   0.   0.   0.   0.   0.  54. 255.  69.   0.]\n",
      " [  0. 111. 255.  15.   0.   0.   0.   0.   0.   0. 169. 206.   0.   0.\n",
      "    0. 131. 244.   0.   0.   0.   0.   0.   0.   0.  23. 255. 100.   0.]\n",
      " [  0. 111. 255.  87.  68.  54.  42.  31.  17.  10. 198. 193.   0.   0.\n",
      "    0. 117. 255.   4.   0.   0.   0.   0.   0.   0.  13. 255. 111.   0.]\n",
      " [  0.  79. 255. 255. 255. 255. 255. 255. 255. 255. 255. 128.   0.   0.\n",
      "    0. 101. 255. 184. 137. 136. 122. 119. 127. 155. 191. 255.  72.   0.]\n",
      " [  0.   0.  26.  39.  51.  67.  79.  90. 102. 116.  63.   2.   0.   0.\n",
      "    0.  18. 137. 206. 238. 243. 255. 255. 249. 222. 195. 157.  12.   0.]\n",
      " [  0.   0.   0.   0.   0.   0.   0.   0.   0.   0.   0.   0.   0.   0.\n",
      "    0.   0.   0.   0.   0.   0.   0.   0.   0.   0.   0.   0.   0.   0.]\n",
      " [  0.   0.   0.   0.   0.   0.   0.   0.   0.   0.   0.   0.   0.   0.\n",
      "    0.   0.   0.   0.   0.   0.   0.   0.   0.   0.   0.   0.   0.   0.]]\n",
      "headphones\n"
     ]
    },
    {
     "data": {
      "image/png": "[encoded data removed]",
      "text/plain": [
       "<Figure size 432x288 with 1 Axes>"
      ]
     },
     "metadata": {
      "needs_background": "light"
     },
     "output_type": "display_data"
    }
   ],
   "source": [
    "import matplotlib.pyplot as plt\n",
    "from random import randint\n",
    "%matplotlib inline  \n",
    "idx = randint(0, len(x_train))\n",
    "print(x_train[idx].reshape(28,28))\n",
    "plt.imshow(x_train[idx].reshape(28,28)) \n",
    "print(class_names[int(y_train[idx].item())])"
   ]
  },
  {
   "cell_type": "markdown",
   "metadata": {
    "colab_type": "text",
    "id": "n8InHz5NBFrV"
   },
   "source": [
    "# Preprocess the Data "
   ]
  },
  {
   "cell_type": "code",
   "execution_count": 10,
   "metadata": {
    "colab": {},
    "colab_type": "code",
    "id": "p2GHUq7D2r9e"
   },
   "outputs": [],
   "source": [
    "# Reshape and normalize\n",
    "x_train = x_train.reshape(x_train.shape[0], image_size, image_size, 1).astype('float32')\n",
    "x_test = x_test.reshape(x_test.shape[0], image_size, image_size, 1).astype('float32')\n",
    "\n",
    "x_train /= 255.0\n",
    "x_test /= 255.0\n",
    "\n",
    "# Convert class vectors to class matrices\n",
    "y_train = keras.utils.to_categorical(y_train, num_classes)\n",
    "y_test = keras.utils.to_categorical(y_test, num_classes)"
   ]
  },
  {
   "cell_type": "markdown",
   "metadata": {
    "colab_type": "text",
    "id": "rL6XAb4hBMSc"
   },
   "source": [
    "# The Model "
   ]
  },
  {
   "cell_type": "code",
   "execution_count": 11,
   "metadata": {
    "colab": {
     "base_uri": "https://localhost:8080/",
     "height": 469
    },
    "colab_type": "code",
    "id": "uYUVV2wf2z8H",
    "outputId": "521cf96e-3039-411e-d14e-5aaca559b518"
   },
   "outputs": [
    {
     "name": "stdout",
     "output_type": "stream",
     "text": [
      "3105000\n",
      "3105000\n",
      "345000\n",
      "345000\n",
      "WARNING:tensorflow:From /usr/local/lib/python3.6/dist-packages/tensorflow/python/ops/resource_variable_ops.py:435: colocate_with (from tensorflow.python.framework.ops) is deprecated and will be removed in a future version.\n",
      "Instructions for updating:\n",
      "Colocations handled automatically by placer.\n",
      "WARNING:tensorflow:From /usr/local/lib/python3.6/dist-packages/tensorflow/python/keras/layers/core.py:143: calling dropout (from tensorflow.python.ops.nn_ops) with keep_prob is deprecated and will be removed in a future version.\n",
      "Instructions for updating:\n",
      "Please use `rate` instead of `keep_prob`. Rate should be set to `rate = 1 - keep_prob`.\n",
      "_________________________________________________________________\n",
      "Layer (type)                 Output Shape              Param #   \n",
      "=================================================================\n",
      "conv2d (Conv2D)              (None, 28, 28, 16)        160       \n",
      "_________________________________________________________________\n",
      "conv2d_1 (Conv2D)            (None, 28, 28, 16)        2320      \n",
      "_________________________________________________________________\n",
      "max_pooling2d (MaxPooling2D) (None, 14, 14, 16)        0         \n",
      "_________________________________________________________________\n",
      "conv2d_2 (Conv2D)            (None, 14, 14, 32)        4640      \n",
      "_________________________________________________________________\n",
      "conv2d_3 (Conv2D)            (None, 14, 14, 32)        9248      \n",
      "_________________________________________________________________\n",
      "max_pooling2d_1 (MaxPooling2 (None, 7, 7, 32)          0         \n",
      "_________________________________________________________________\n",
      "conv2d_4 (Conv2D)            (None, 7, 7, 64)          18496     \n",
      "_________________________________________________________________\n",
      "conv2d_5 (Conv2D)            (None, 7, 7, 64)          36928     \n",
      "_________________________________________________________________\n",
      "max_pooling2d_2 (MaxPooling2 (None, 3, 3, 64)          0         \n",
      "_________________________________________________________________\n",
      "flatten (Flatten)            (None, 576)               0         \n",
      "_________________________________________________________________\n",
      "dropout (Dropout)            (None, 576)               0         \n",
      "_________________________________________________________________\n",
      "dense (Dense)                (None, 512)               295424    \n",
      "_________________________________________________________________\n",
      "dense_1 (Dense)              (None, 345)               176985    \n",
      "=================================================================\n",
      "Total params: 544,201\n",
      "Trainable params: 544,201\n",
      "Non-trainable params: 0\n",
      "_________________________________________________________________\n",
      "None\n"
     ]
    }
   ],
   "source": [
    "print(len(x_train))\n",
    "print(len(y_train))\n",
    "print(len(x_test))\n",
    "print(len(y_test))\n",
    "\n",
    "# Define model\n",
    "model = keras.Sequential()\n",
    "model.add(layers.Convolution2D(16, (3, 3),padding='same',input_shape=x_train.shape[1:], activation='relu'))\n",
    "model.add(layers.Convolution2D(16, (3, 3),padding='same',input_shape=x_train.shape[1:], activation='relu'))\n",
    "model.add(layers.MaxPooling2D(pool_size=(2, 2)))\n",
    "\n",
    "\n",
    "model.add(layers.Convolution2D(32, (3, 3), padding='same', activation= 'relu'))\n",
    "model.add(layers.Convolution2D(32, (3, 3), padding='same', activation= 'relu'))\n",
    "model.add(layers.MaxPooling2D(pool_size=(2, 2)))\n",
    "\n",
    "model.add(layers.Convolution2D(64, (3, 3), padding='same', activation= 'relu'))\n",
    "model.add(layers.Convolution2D(64, (3, 3), padding='same', activation= 'relu'))\n",
    "model.add(layers.MaxPooling2D(pool_size =(2,2)))\n",
    "\n",
    "model.add(layers.Flatten())\n",
    "model.add(layers.Dropout(0.1))\n",
    "model.add(layers.Dense(512, activation='tanh'))\n",
    "model.add(layers.Dense(345, activation='softmax')) \n",
    "# Train model\n",
    "adam = tf.train.AdamOptimizer()\n",
    "model.compile(loss='categorical_crossentropy', optimizer=adam, metrics=['top_k_categorical_accuracy'])\n",
    "print(model.summary())\n"
   ]
  },
  {
   "cell_type": "markdown",
   "metadata": {
    "colab_type": "text",
    "id": "_YRSRkOyBP1P"
   },
   "source": [
    "# Training "
   ]
  },
  {
   "cell_type": "code",
   "execution_count": null,
   "metadata": {
    "colab": {
     "base_uri": "https://localhost:8080/",
     "height": 225
    },
    "colab_type": "code",
    "id": "7OMEJ7kF3lsP",
    "outputId": "4d9a46ad-2ed1-4b4f-c1ec-687997025034"
   },
   "outputs": [
    {
     "name": "stdout",
     "output_type": "stream",
     "text": [
      "Train on 2794500 samples, validate on 310500 samples\n",
      "WARNING:tensorflow:From /usr/local/lib/python3.6/dist-packages/tensorflow/python/ops/math_ops.py:3066: to_int32 (from tensorflow.python.ops.math_ops) is deprecated and will be removed in a future version.\n",
      "Instructions for updating:\n",
      "Use tf.cast instead.\n",
      "Epoch 1/5\n",
      " - 74s - loss: 1.9836 - top_k_categorical_accuracy: 0.7897 - val_loss: 1.6996 - val_top_k_categorical_accuracy: 0.8379\n",
      "Epoch 2/5\n",
      " - 72s - loss: 1.5535 - top_k_categorical_accuracy: 0.8562 - val_loss: 1.4798 - val_top_k_categorical_accuracy: 0.8663\n",
      "Epoch 3/5\n",
      " - 72s - loss: 1.4622 - top_k_categorical_accuracy: 0.8681 - val_loss: 1.4128 - val_top_k_categorical_accuracy: 0.8748\n",
      "Epoch 4/5\n",
      " - 72s - loss: 1.4148 - top_k_categorical_accuracy: 0.8741 - val_loss: 1.4223 - val_top_k_categorical_accuracy: 0.8738\n",
      "Epoch 5/5\n"
     ]
    }
   ],
   "source": [
    "model.fit(x = x_train, y = y_train, validation_split=0.1, batch_size = 256, verbose=2, epochs=5)"
   ]
  },
  {
   "cell_type": "markdown",
   "metadata": {
    "colab_type": "text",
    "id": "d2KztY7qEn9_"
   },
   "source": [
    "# Testing "
   ]
  },
  {
   "cell_type": "code",
   "execution_count": 80,
   "metadata": {
    "colab": {
     "base_uri": "https://localhost:8080/",
     "height": 34
    },
    "colab_type": "code",
    "id": "ssaZczS7DxeA",
    "outputId": "63f7726d-205e-4cf7-9540-0c3d379e54e4"
   },
   "outputs": [
    {
     "name": "stdout",
     "output_type": "stream",
     "text": [
      "1380000\n",
      "1380000\n",
      "345000\n",
      "345000\n",
      "Test accuarcy: 87.20%\n"
     ]
    }
   ],
   "source": [
    "print(len(x_train))\n",
    "print(len(y_train))\n",
    "print(len(x_test))\n",
    "print(len(y_test))\n",
    "score = model.evaluate(x_test, y_test, verbose=0)\n",
    "print('Test accuarcy: {:0.2f}%'.format(score[1] * 100))"
   ]
  },
  {
   "cell_type": "markdown",
   "metadata": {
    "colab_type": "text",
    "id": "9xBM_w0VBbNr"
   },
   "source": [
    "# Inference "
   ]
  },
  {
   "cell_type": "code",
   "execution_count": 58,
   "metadata": {
    "colab": {
     "base_uri": "https://localhost:8080/",
     "height": 282
    },
    "colab_type": "code",
    "id": "nH3JfoiYHdpk",
    "outputId": "ca2ed216-7069-4caf-b72a-784a11da8553"
   },
   "outputs": [
    {
     "name": "stdout",
     "output_type": "stream",
     "text": [
      "['smiley_face', 'face', 'donut', 'beard', 'goatee']\n"
     ]
    },
    {
     "data": {
      "image/png": "[encoded data removed]",
      "text/plain": [
       "<Figure size 432x288 with 1 Axes>"
      ]
     },
     "metadata": {
      "needs_background": "light"
     },
     "output_type": "display_data"
    }
   ],
   "source": [
    "import matplotlib.pyplot as plt\n",
    "from random import randint\n",
    "%matplotlib inline  \n",
    "idx = randint(0, len(x_test))\n",
    "img = x_test[idx]\n",
    "plt.imshow(img.squeeze()) \n",
    "pred = model.predict(np.expand_dims(img, axis=0))[0]\n",
    "ind = (-pred).argsort()[:5]\n",
    "latex = [class_names[x] for x in ind]\n",
    "print(latex)"
   ]
  },
  {
   "cell_type": "markdown",
   "metadata": {
    "colab_type": "text",
    "id": "YPp5D82YBhM-"
   },
   "source": [
    "# Store the classes "
   ]
  },
  {
   "cell_type": "code",
   "execution_count": 48,
   "metadata": {
    "colab": {},
    "colab_type": "code",
    "id": "NoFI1msFYpCN"
   },
   "outputs": [],
   "source": [
    "with open('class_names.txt', 'w') as file_handler:\n",
    "    for item in class_names:\n",
    "        file_handler.write(\"{}\\n\".format(item))"
   ]
  },
  {
   "cell_type": "markdown",
   "metadata": {
    "colab_type": "text",
    "id": "mfJ6dpaDBpRx"
   },
   "source": [
    "# Install TensorFlowJS"
   ]
  },
  {
   "cell_type": "code",
   "execution_count": 49,
   "metadata": {
    "colab": {
     "base_uri": "https://localhost:8080/",
     "height": 877
    },
    "colab_type": "code",
    "id": "hJJDfp9mY9Xh",
    "outputId": "5f1b0500-99ca-4935-89da-d2359bb5c29b"
   },
   "outputs": [
    {
     "name": "stdout",
     "output_type": "stream",
     "text": [
      "Requirement already satisfied: tensorflowjs in /usr/local/lib/python3.6/dist-packages (1.0.1)\n",
      "Requirement already satisfied: six==1.11.0 in /usr/local/lib/python3.6/dist-packages (from tensorflowjs) (1.11.0)\n",
      "Requirement already satisfied: h5py==2.8.0 in /usr/local/lib/python3.6/dist-packages (from tensorflowjs) (2.8.0)\n",
      "Requirement already satisfied: tensorflow-hub==0.3.0 in /usr/local/lib/python3.6/dist-packages (from tensorflowjs) (0.3.0)\n",
      "Requirement already satisfied: numpy==1.15.1 in /usr/local/lib/python3.6/dist-packages (from tensorflowjs) (1.15.1)\n",
      "Requirement already satisfied: keras==2.2.4 in /usr/local/lib/python3.6/dist-packages (from tensorflowjs) (2.2.4)\n",
      "Requirement already satisfied: tf-nightly-2.0-preview>=2.0.0.dev20190304 in /usr/local/lib/python3.6/dist-packages (from tensorflowjs) (2.0.0.dev20190414)\n",
      "Requirement already satisfied: protobuf>=3.4.0 in /usr/local/lib/python3.6/dist-packages (from tensorflow-hub==0.3.0->tensorflowjs) (3.7.1)\n",
      "Requirement already satisfied: keras-preprocessing>=1.0.5 in /usr/local/lib/python3.6/dist-packages (from keras==2.2.4->tensorflowjs) (1.0.9)\n",
      "Requirement already satisfied: keras-applications>=1.0.6 in /usr/local/lib/python3.6/dist-packages (from keras==2.2.4->tensorflowjs) (1.0.7)\n",
      "Requirement already satisfied: scipy>=0.14 in /usr/local/lib/python3.6/dist-packages (from keras==2.2.4->tensorflowjs) (1.2.1)\n",
      "Requirement already satisfied: pyyaml in /usr/local/lib/python3.6/dist-packages (from keras==2.2.4->tensorflowjs) (5.1)\n",
      "Requirement already satisfied: tensorflow-estimator-2.0-preview in /usr/local/lib/python3.6/dist-packages (from tf-nightly-2.0-preview>=2.0.0.dev20190304->tensorflowjs) (1.14.0.dev2019041400)\n",
      "Requirement already satisfied: astor>=0.6.0 in /usr/local/lib/python3.6/dist-packages (from tf-nightly-2.0-preview>=2.0.0.dev20190304->tensorflowjs) (0.7.1)\n",
      "Requirement already satisfied: gast>=0.2.0 in /usr/local/lib/python3.6/dist-packages (from tf-nightly-2.0-preview>=2.0.0.dev20190304->tensorflowjs) (0.2.2)\n",
      "Requirement already satisfied: google-pasta>=0.1.2 in /usr/local/lib/python3.6/dist-packages (from tf-nightly-2.0-preview>=2.0.0.dev20190304->tensorflowjs) (0.1.5)\n",
      "Requirement already satisfied: termcolor>=1.1.0 in /usr/local/lib/python3.6/dist-packages (from tf-nightly-2.0-preview>=2.0.0.dev20190304->tensorflowjs) (1.1.0)\n",
      "Requirement already satisfied: tb-nightly<1.15.0a0,>=1.14.0a0 in /usr/local/lib/python3.6/dist-packages (from tf-nightly-2.0-preview>=2.0.0.dev20190304->tensorflowjs) (1.14.0a20190414)\n",
      "Requirement already satisfied: wheel>=0.26 in /usr/local/lib/python3.6/dist-packages (from tf-nightly-2.0-preview>=2.0.0.dev20190304->tensorflowjs) (0.33.1)\n",
      "Requirement already satisfied: grpcio>=1.8.6 in /usr/local/lib/python3.6/dist-packages (from tf-nightly-2.0-preview>=2.0.0.dev20190304->tensorflowjs) (1.19.0)\n",
      "Requirement already satisfied: absl-py>=0.7.0 in /usr/local/lib/python3.6/dist-packages (from tf-nightly-2.0-preview>=2.0.0.dev20190304->tensorflowjs) (0.7.1)\n",
      "Requirement already satisfied: wrapt>=1.11.1 in /usr/local/lib/python3.6/dist-packages (from tf-nightly-2.0-preview>=2.0.0.dev20190304->tensorflowjs) (1.11.1)\n",
      "Requirement already satisfied: setuptools in /usr/local/lib/python3.6/dist-packages (from protobuf>=3.4.0->tensorflow-hub==0.3.0->tensorflowjs) (40.8.0)\n",
      "Requirement already satisfied: markdown>=2.6.8 in /usr/local/lib/python3.6/dist-packages (from tb-nightly<1.15.0a0,>=1.14.0a0->tf-nightly-2.0-preview>=2.0.0.dev20190304->tensorflowjs) (3.1)\n",
      "Requirement already satisfied: werkzeug>=0.11.15 in /usr/local/lib/python3.6/dist-packages (from tb-nightly<1.15.0a0,>=1.14.0a0->tf-nightly-2.0-preview>=2.0.0.dev20190304->tensorflowjs) (0.15.1)\n"
     ]
    }
   ],
   "source": [
    "!pip install tensorflowjs "
   ]
  },
  {
   "cell_type": "markdown",
   "metadata": {
    "colab_type": "text",
    "id": "-oBl0ZKVB00d"
   },
   "source": [
    "# Save and Convert "
   ]
  },
  {
   "cell_type": "code",
   "execution_count": 22,
   "metadata": {
    "colab": {},
    "colab_type": "code",
    "id": "XVICB3TbZGb2"
   },
   "outputs": [
    {
     "name": "stdout",
     "output_type": "stream",
     "text": [
      "WARNING:tensorflow:TensorFlow optimizers do not make it possible to access optimizer attributes or optimizer state after instantiation. As a result, we cannot save the optimizer as part of the model save file.You will have to compile your model again after loading it. Prefer using a Keras optimizer instead (see keras.io/optimizers).\n"
     ]
    }
   ],
   "source": [
    "model.save('keras.h5')"
   ]
  },
  {
   "cell_type": "code",
   "execution_count": 23,
   "metadata": {
    "colab": {
     "base_uri": "https://localhost:8080/",
     "height": 133
    },
    "colab_type": "code",
    "id": "bTWWlGdWZOvs",
    "outputId": "98724960-128d-4ecc-cdb0-460f7c06536e"
   },
   "outputs": [],
   "source": [
    "!mkdir model\n",
    "!tensorflowjs_converter --input_format keras keras.h5 model/\n",
    "!cp class_names.txt model/class_names.txt"
   ]
  },
  {
   "cell_type": "markdown",
   "metadata": {
    "colab_type": "text",
    "id": "JKYxE2MEB6LV"
   },
   "source": [
    "# Download\n",
    "Download all the files in the model folder on the left sidebar."
   ]
  },
  {
   "cell_type": "code",
   "execution_count": null,
   "metadata": {},
   "outputs": [],
   "source": []
  }
 ],
 "metadata": {
  "accelerator": "TPU",
  "colab": {
   "collapsed_sections": [],
   "name": "345 Sketcher.ipynb",
   "provenance": [],
   "toc_visible": true,
   "version": "0.3.2"
  },
  "kernelspec": {
   "display_name": "Python 3",
   "language": "python",
   "name": "python3"
  },
  "language_info": {
   "codemirror_mode": {
    "name": "ipython",
    "version": 3
   },
   "file_extension": ".py",
   "mimetype": "text/x-python",
   "name": "python",
   "nbconvert_exporter": "python",
   "pygments_lexer": "ipython3",
   "version": "3.6.7"
  }
 },
 "nbformat": 4,
 "nbformat_minor": 2
}
